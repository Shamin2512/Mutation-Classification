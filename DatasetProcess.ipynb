{
 "cells": [
  {
   "attachments": {},
   "cell_type": "markdown",
   "id": "52c025f4",
   "metadata": {},
   "source": [
    "\n",
    "DatasetProcess.py peforms the pre-processing on the large dataset for SAAPpred.\n",
    "This includes removing NaNs, encoding class label, and simplifying the protein identifier to Uniprot Acession code.\n",
    "\n",
    "Returns a combined, shuffled dataset of PDs and SNPs. "
   ]
  },
  {
   "cell_type": "code",
   "execution_count": 1,
   "id": "1090b0f8",
   "metadata": {},
   "outputs": [],
   "source": [
    "import pandas as pd\n",
    "import time\n",
    "from sklearn.preprocessing import LabelEncoder"
   ]
  },
  {
   "cell_type": "code",
   "execution_count": 2,
   "id": "fa439e85",
   "metadata": {},
   "outputs": [
    {
     "ename": "IndentationError",
     "evalue": "unexpected indent (3144010263.py, line 9)",
     "output_type": "error",
     "traceback": [
      "\u001b[1;36m  Cell \u001b[1;32mIn[2], line 9\u001b[1;36m\u001b[0m\n\u001b[1;33m    df_pd = pd.read_csv(PD_file)\u001b[0m\n\u001b[1;37m    ^\u001b[0m\n\u001b[1;31mIndentationError\u001b[0m\u001b[1;31m:\u001b[0m unexpected indent\n"
     ]
    }
   ],
   "source": [
    "def clean_data(PD_file, SNP_file):\n",
    "    \"\"\"      \n",
    "    Input:      PD_file          csv file of PD data\n",
    "                SNP_file         csv file of snp data\n",
    "\n",
    "    Returns:    combined         Dataframe of combined SNP and PD data with error values removed\n",
    "\n",
    "    Combine PD and SNP dataset, removes NaNs/ blank/ error spaces, encode dataset label and shuffle\n",
    "    \"\"\"\n",
    "    \n",
    "    df_pd = pd.read_csv(PD_file)\n",
    "    df_snp = pd.read_csv(SNP_file)\n",
    "    datasets = [df_pd, df_snp]\n",
    "    df = pd.concat(datasets)\n",
    "\n",
    "    #Remove NaNs/ blank/ error spaces, reset index to run from 0\n",
    "    df.replace(to_replace=[' ', '?'], value = pd.NA, inplace=True)\n",
    "    df.dropna(inplace = True)\n",
    "\n",
    "    #Shuffle data to remove patterns and reset index\n",
    "    df = df.sample(frac = 1)\n",
    "    df.reset_index(drop=True, inplace = True)\n",
    "\n",
    "    #Encodes class labels to numeric values (0 or 1)\n",
    "    df['dataset'] = 1 - (LabelEncoder().fit_transform(df['dataset']))   # Subtract from 1 so that PD = 1 and SNP = 0\n",
    "    combined = df\n",
    "        \n",
    "    return combined"
   ]
  },
  {
   "cell_type": "code",
   "execution_count": null,
   "id": "62506147",
   "metadata": {},
   "outputs": [],
   "source": [
    "def identifer(combined):\n",
    "    \"\"\"      \n",
    "    Input:      combined         Dataframe of pre-processed, combined SNP and PD data\n",
    "\n",
    "    Returns:    cleaned          Dataframe of mutation data with UniProt Acession Code identifier\n",
    "\n",
    "    Simplify the protein identifier column to UniProt Acession Code\n",
    "    \"\"\"\n",
    "\n",
    "    AC_codes = combined.iloc[:, 0].str.extract(r':(\\w+):')\n",
    "    \n",
    "    combined.drop(['num:uniprotac:res:nat:mut:pdbcode:chain:resnum:mutation:structuretype:resolution:rfactor'], axis=1, inplace=True) #Remove original column header\n",
    "    combined.insert(0, 'AC Code', AC_codes)\n",
    "    cleaned = combined\n",
    "\n",
    "    return cleaned"
   ]
  },
  {
   "cell_type": "code",
   "execution_count": null,
   "id": "9b15594b",
   "metadata": {},
   "outputs": [],
   "source": [
    "def distance_feature(cleaned):\n",
    "    \"\"\"      \n",
    "    Input:      cleaned                 Dataframe of pre-processed SNP and PD data\n",
    "\n",
    "    Returns:    Dataset_Feature         Dataframe with additional SprotFTdist features\n",
    "                Dataset_NoFeature       Dataframe without additional SprotFTdist features\n",
    "\n",
    "    Output the pre-processed data as csv files\n",
    "    \"\"\"\n",
    "    Dataset_Feature   = cleaned.drop(['SprotFTdist-ACT_SITE','SprotFTdist-BINDING','SprotFTdist-CA_BIND','SprotFTdist-DNA_BIND','SprotFTdist-NP_BIND','SprotFTdist-METAL','SprotFTdist-MOD_RES','SprotFTdist-CARBOHYD','SprotFTdist-MOTIF','SprotFTdist-LIPID'], axis = 1, inplace = False)\n",
    "    Dataset_NoFeature = cleaned\n",
    "    \n",
    "    Dataset_Feature.to_csv('Dataset_Feature.csv')\n",
    "    Dataset_NoFeature.to_csv('Dataset_NoFeature.csv')"
   ]
  },
  {
   "cell_type": "code",
   "execution_count": null,
   "id": "b1f791dc",
   "metadata": {},
   "outputs": [],
   "source": [
    "\"\"\" Main program \"\"\"\n",
    "start = time.time()\n",
    "\n",
    "PD_file = \"pd.csv\"\n",
    "SNP_file = \"snp.csv\"\n",
    "combined = clean_data(PD_file, SNP_file)\n",
    "cleaned = identifer(combined)\n",
    "Dataset_Feature, Dataset_NoFeature = distance_feature(cleaned)\n",
    "\n",
    "end = time.time()"
   ]
  }
 ],
 "metadata": {
  "kernelspec": {
   "display_name": "Python 3 (ipykernel)",
   "language": "python",
   "name": "python3"
  },
  "language_info": {
   "codemirror_mode": {
    "name": "ipython",
    "version": 3
   },
   "file_extension": ".py",
   "mimetype": "text/x-python",
   "name": "python",
   "nbconvert_exporter": "python",
   "pygments_lexer": "ipython3",
   "version": "3.11.3"
  },
  "varInspector": {
   "cols": {
    "lenName": 16,
    "lenType": 16,
    "lenVar": 40
   },
   "kernels_config": {
    "python": {
     "delete_cmd_postfix": "",
     "delete_cmd_prefix": "del ",
     "library": "var_list.py",
     "varRefreshCmd": "print(var_dic_list())"
    },
    "r": {
     "delete_cmd_postfix": ") ",
     "delete_cmd_prefix": "rm(",
     "library": "var_list.r",
     "varRefreshCmd": "cat(var_dic_list()) "
    }
   },
   "types_to_exclude": [
    "module",
    "function",
    "builtin_function_or_method",
    "instance",
    "_Feature"
   ],
   "window_display": true
  }
 },
 "nbformat": 4,
 "nbformat_minor": 5
}
