{
 "cells": [
  {
   "cell_type": "code",
   "execution_count": 1,
   "id": "1090b0f8",
   "metadata": {},
   "outputs": [],
   "source": [
    "\"\"\"\n",
    "This script peforms the pre-processing on the large dataset for SAAPpred.\n",
    "This includes removing NaNs, encoding class label, and converting protein identifier to Uniprot Acession code.\n",
    "\n",
    "Returns a combined, shuffled dataset of PDs and SNPs. \n",
    "\"\"\"\n",
    "from urllib import request\n",
    "import sys\n",
    "import re\n",
    "import pandas as pd\n",
    "import numpy as np\n",
    "import time\n",
    "import xgboost as xgb\n",
    "from sklearn.preprocessing import LabelEncoder"
   ]
  },
  {
   "cell_type": "code",
   "execution_count": 2,
   "id": "fa439e85",
   "metadata": {},
   "outputs": [],
   "source": [
    "def clean_data(PD_file, SNP_file):\n",
    "    df_pd = pd.read_csv(PD_file)\n",
    "    df_snp = pd.read_csv(SNP_file)\n",
    "    datasets = [df_pd, df_snp]\n",
    "    df = pd.concat(datasets)\n",
    "\n",
    "    #Remove NaNs/ blank/ error spaces, reset index to run from 0\n",
    "    df.replace(to_replace=[' ', '?'], value = pd.NA, inplace=True)\n",
    "    df.dropna(inplace = True)\n",
    "\n",
    "    #Shuffle data to remove patterns and reset index\n",
    "    df = df.sample(frac = 1)\n",
    "    df.reset_index(drop=True, inplace = True)\n",
    "\n",
    "    #Encodes class labels to numeric values (0 or 1)\n",
    "    df['dataset'] = 1 - (LabelEncoder().fit_transform(df['dataset']))   # Subtract from 1 so that PD = 1 and SNP = 0\n",
    "    cleaned = df\n",
    "        \n",
    "    return cleaned"
   ]
  },
  {
   "cell_type": "code",
   "execution_count": 3,
   "id": "62506147",
   "metadata": {},
   "outputs": [],
   "source": [
    "def identifer(cleaned):\n",
    "\n",
    "    AC_codes = cleaned.iloc[:, 0].str.extract(r':(\\w+):')\n",
    "    \n",
    "    cleaned.drop(['num:uniprotac:res:nat:mut:pdbcode:chain:resnum:mutation:structuretype:resolution:rfactor'], axis=1, inplace=True) #Remove original column header\n",
    "    cleaned.insert(0, 'AC Code', AC_codes)\n",
    "\n",
    "    return cleaned, AC_codes"
   ]
  },
  {
   "cell_type": "code",
   "execution_count": null,
   "id": "9b15594b",
   "metadata": {},
   "outputs": [],
   "source": [
    "def distance_feature(cleaned):\n",
    "    AC_dataset_feature = cleaned.drop(['SprotFTdist-ACT_SITE','SprotFTdist-BINDING','SprotFTdist-CA_BIND','SprotFTdist-DNA_BIND','SprotFTdist-NP_BIND','SprotFTdist-METAL','SprotFTdist-MOD_RES','SprotFTdist-CARBOHYD','SprotFTdist-MOTIF','SprotFTdist-LIPID'], axis = 1, inplace = False)\n",
    "    AC_dataset_Nofeature = cleaned\n",
    "    \n",
    "    return(AC_dataset_feature, AC_dataset_Nofeature)"
   ]
  },
  {
   "cell_type": "code",
   "execution_count": 4,
   "id": "b1f791dc",
   "metadata": {},
   "outputs": [],
   "source": [
    "\"\"\" Main program \"\"\"\n",
    "start = time.time()\n",
    "\n",
    "PD_file = \"PD_test.csv\"\n",
    "SNP_file = \"SNP_test.csv\" \n",
    "cleaned = clean_data(PD_file, SNP_file)\n",
    "cleaned, AC_Codes = identifer(cleaned)\n",
    "AC_dataset_feature, AC_dataset_Nofeature = distance_feature(cleaned)\n",
    "\n",
    "end = time.time()"
   ]
  },
  {
   "cell_type": "code",
   "execution_count": 5,
   "id": "4c83c339",
   "metadata": {},
   "outputs": [],
   "source": [
    "# print(f\"Time: {end-start} seconds\\n\\n{AC_dataset}\")"
   ]
  }
 ],
 "metadata": {
  "kernelspec": {
   "display_name": "Python 3 (ipykernel)",
   "language": "python",
   "name": "python3"
  },
  "language_info": {
   "codemirror_mode": {
    "name": "ipython",
    "version": 3
   },
   "file_extension": ".py",
   "mimetype": "text/x-python",
   "name": "python",
   "nbconvert_exporter": "python",
   "pygments_lexer": "ipython3",
   "version": "3.11.3"
  },
  "varInspector": {
   "cols": {
    "lenName": 16,
    "lenType": 16,
    "lenVar": 40
   },
   "kernels_config": {
    "python": {
     "delete_cmd_postfix": "",
     "delete_cmd_prefix": "del ",
     "library": "var_list.py",
     "varRefreshCmd": "print(var_dic_list())"
    },
    "r": {
     "delete_cmd_postfix": ") ",
     "delete_cmd_prefix": "rm(",
     "library": "var_list.r",
     "varRefreshCmd": "cat(var_dic_list()) "
    }
   },
   "types_to_exclude": [
    "module",
    "function",
    "builtin_function_or_method",
    "instance",
    "_Feature"
   ],
   "window_display": true
  }
 },
 "nbformat": 4,
 "nbformat_minor": 5
}
