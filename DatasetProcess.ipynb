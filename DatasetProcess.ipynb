{
 "cells": [
  {
   "attachments": {},
   "cell_type": "markdown",
   "id": "52c025f4",
   "metadata": {},
   "source": [
    "\n",
    "DatasetProcess.py peforms the pre-processing on the large dataset for SAAPpred.\n",
    "This includes removing NaNs, encoding class label, and simplifying the protein identifier to Uniprot Acession code.\n",
    "\n",
    "Returns a combined, shuffled PDs and SNPs csv. "
   ]
  },
  {
   "cell_type": "code",
   "execution_count": 20,
   "id": "1090b0f8",
   "metadata": {},
   "outputs": [],
   "source": [
    "import pandas as pd\n",
    "import time\n",
    "import random\n",
    "from sklearn.preprocessing import LabelEncoder"
   ]
  },
  {
   "cell_type": "code",
   "execution_count": 21,
   "id": "dd18884a",
   "metadata": {},
   "outputs": [],
   "source": [
    "def random_seed():\n",
    "    \"\"\"      \n",
    "    Returns:    seed         Random seed from current time\n",
    "\n",
    "    Generate a random seed to be used by all scripts\n",
    "    \"\"\"\n",
    "    seed = random.randint(0, round(time.time()))\n",
    "    random.seed(seed)\n",
    "    \n",
    "    return seed"
   ]
  },
  {
   "cell_type": "code",
   "execution_count": 22,
   "id": "fa439e85",
   "metadata": {},
   "outputs": [],
   "source": [
    "def clean_data(PD_file, SNP_file, seed):\n",
    "    \"\"\"      \n",
    "    Input:      PD_file          csv file of PD data\n",
    "                SNP_file         csv file of SNP data\n",
    "\n",
    "    Returns:    combined         Dataframe of combined SNP and PD data with error values removed\n",
    "\n",
    "    Combine PD and SNP dataset, removes NaNs/ blank/ error spaces, encode dataset label and shuffle\n",
    "    \"\"\"\n",
    "    \n",
    "    df_pd = pd.read_csv(PD_file)\n",
    "    df_snp = pd.read_csv(SNP_file)\n",
    "    datasets = [df_pd, df_snp]\n",
    "    df = pd.concat(datasets)\n",
    "\n",
    "    #Remove NaNs/ blank/ error spaces, reset index to run from 0\n",
    "    df.replace(to_replace=[' ', '?'], value = pd.NA, inplace=True)\n",
    "    df.dropna(inplace = True)\n",
    "\n",
    "    #Shuffle data to remove patterns and reset index\n",
    "    df = df.sample(frac = 1, random_state= seed)\n",
    "    df.reset_index(drop=True, inplace = True)\n",
    "\n",
    "    #Encodes class labels to numeric values (0 or 1)\n",
    "    df['dataset'] = 1 - (LabelEncoder().fit_transform(df['dataset']))   # Subtract from 1 so that PD = 1 and SNP = 0\n",
    "    combined = df\n",
    "        \n",
    "    return combined"
   ]
  },
  {
   "cell_type": "code",
   "execution_count": 23,
   "id": "62506147",
   "metadata": {},
   "outputs": [],
   "source": [
    "def identifer(combined):\n",
    "    \"\"\"      \n",
    "    Input:      combined         Dataframe of pre-processed, combined SNP and PD data\n",
    "\n",
    "    Returns:    cleaned          Dataframe of mutation data with UniProt Acession Code identifier\n",
    "\n",
    "    Simplify the protein identifier column to UniProt Acession Code\n",
    "    \"\"\"\n",
    "\n",
    "    AC_codes = combined.iloc[:, 0].str.extract(r':(\\w+):')\n",
    "    \n",
    "    combined.drop(['num:uniprotac:res:nat:mut:pdbcode:chain:resnum:mutation:structuretype:resolution:rfactor'], axis=1, inplace=True) #Remove original column header\n",
    "    combined.insert(0, 'AC Code', AC_codes)\n",
    "    cleaned = combined\n",
    "\n",
    "    return cleaned"
   ]
  },
  {
   "cell_type": "code",
   "execution_count": 24,
   "id": "9b15594b",
   "metadata": {},
   "outputs": [],
   "source": [
    "def distance_feature(cleaned):\n",
    "    \"\"\"      \n",
    "    Input:      cleaned                 Dataframe of pre-processed SNP and PD data\n",
    "\n",
    "    Returns:    Dataset_Feature         Dataframe with additional SprotFTdist features\n",
    "                Dataset_NoFeature       Dataframe without additional SprotFTdist features\n",
    "\n",
    "    Output the pre-processed data as csv files\n",
    "    \"\"\"\n",
    "    Dataset_Feature   = cleaned \n",
    "    Dataset_NoFeature = cleaned.drop(['SprotFTdist-ACT_SITE','SprotFTdist-BINDING','SprotFTdist-CA_BIND','SprotFTdist-DNA_BIND','SprotFTdist-NP_BIND','SprotFTdist-METAL','SprotFTdist-MOD_RES','SprotFTdist-CARBOHYD','SprotFTdist-MOTIF','SprotFTdist-LIPID'], axis = 1, inplace = False)\n",
    "    \n",
    "    Dataset_Feature.to_csv('Dataset_Feature.csv')\n",
    "    Dataset_NoFeature.to_csv('Dataset_NoFeature.csv')"
   ]
  },
  {
   "cell_type": "code",
   "execution_count": 25,
   "id": "b1f791dc",
   "metadata": {},
   "outputs": [
    {
     "name": "stderr",
     "output_type": "stream",
     "text": [
      "C:\\Users\\Shamin\\AppData\\Local\\Temp\\ipykernel_2596\\1990714696.py:11: DtypeWarning: Columns (1,2,3,4,5,6,7,8,9,10,11,12,13,14,15,16,17,18,19,20,21,22,23,24,25,26,27,29,30,31,49,54,57) have mixed types. Specify dtype option on import or set low_memory=False.\n",
      "  df_pd = pd.read_csv(PD_file)\n",
      "C:\\Users\\Shamin\\AppData\\Local\\Temp\\ipykernel_2596\\1990714696.py:12: DtypeWarning: Columns (25,26,29,30,31,57) have mixed types. Specify dtype option on import or set low_memory=False.\n",
      "  df_snp = pd.read_csv(SNP_file)\n"
     ]
    }
   ],
   "source": [
    "\"\"\" Main program \"\"\"\n",
    "\n",
    "seed = random_seed()\n",
    "with open(\"seed.txt\", \"w\") as f:        # write seed to text to be used by other scripts\n",
    "    f.write(str(seed))\n",
    "    \n",
    "PD_file = input(\"Enter PD file: \")\n",
    "SNP_file = input(\"Enter SNP file: \")\n",
    "\n",
    "start = time.time()\n",
    "combined = clean_data(PD_file, SNP_file, seed)\n",
    "cleaned = identifer(combined)\n",
    "distance_feature(cleaned)\n",
    "\n",
    "end = time.time()"
   ]
  }
 ],
 "metadata": {
  "kernelspec": {
   "display_name": "Python 3 (ipykernel)",
   "language": "python",
   "name": "python3"
  },
  "language_info": {
   "codemirror_mode": {
    "name": "ipython",
    "version": 3
   },
   "file_extension": ".py",
   "mimetype": "text/x-python",
   "name": "python",
   "nbconvert_exporter": "python",
   "pygments_lexer": "ipython3",
   "version": "3.11.3"
  },
  "varInspector": {
   "cols": {
    "lenName": 16,
    "lenType": 16,
    "lenVar": 40
   },
   "kernels_config": {
    "python": {
     "delete_cmd_postfix": "",
     "delete_cmd_prefix": "del ",
     "library": "var_list.py",
     "varRefreshCmd": "print(var_dic_list())"
    },
    "r": {
     "delete_cmd_postfix": ") ",
     "delete_cmd_prefix": "rm(",
     "library": "var_list.r",
     "varRefreshCmd": "cat(var_dic_list()) "
    }
   },
   "types_to_exclude": [
    "module",
    "function",
    "builtin_function_or_method",
    "instance",
    "_Feature"
   ],
   "window_display": true
  }
 },
 "nbformat": 4,
 "nbformat_minor": 5
}
