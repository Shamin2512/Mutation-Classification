{
 "cells": [
  {
   "cell_type": "markdown",
   "metadata": {},
   "source": [
    "This script peforms the scaling of data for SAAPpred.\n",
    "Min-Max scaling scales all continuous (non-categorical) features to be between 0-1"
   ]
  },
  {
   "cell_type": "code",
   "execution_count": 1,
   "metadata": {},
   "outputs": [],
   "source": [
    "\"\"\" Imports the required libraries and packages \"\"\"\n",
    "\n",
    "import pandas as pd\n",
    "import numpy as np\n",
    "from sklearn.preprocessing import MinMaxScaler "
   ]
  },
  {
   "cell_type": "code",
   "execution_count": 2,
   "metadata": {},
   "outputs": [],
   "source": [
    "def open_dataset(file):\n",
    "    \"\"\"      \n",
    "    Input:      file              CSV file to scale \n",
    "\n",
    "    Returns:    data              Dataframe of data to scale\n",
    "            \n",
    "    Open the file for scaling\n",
    "    \"\"\"    \n",
    "    data = pd.read_csv(file, index_col=0)\n",
    "    data.reset_index(drop = True, inplace = True)\n",
    "    \n",
    "    return data"
   ]
  },
  {
   "cell_type": "code",
   "execution_count": 3,
   "metadata": {},
   "outputs": [],
   "source": [
    "def columns(data):\n",
    "    \"\"\"      \n",
    "    Input:      data              Dataframe of data to scale\n",
    "\n",
    "    Returns:    bool_col          List of columns to not scale\n",
    "                scale_col         List of columns to scale\n",
    "            \n",
    "    Identifies the continuous data columns to scale\n",
    "    \"\"\"    \n",
    "    all_col = data.columns.to_list()                             #List of all columns\n",
    "    \n",
    "    bool_col = [] \n",
    "    for col in data.columns:                                     # Boolean and pre-scaled columns that will not be scaled\n",
    "        if data[col].min() == 0 and data[col].max() == 1:\n",
    "            bool_col.append(col) \n",
    "        elif data[col].nunique() == 0 or data[col].nunique() == 1:\n",
    "            bool_col.append(col) \n",
    "            \n",
    "    bool_col.insert(0,'AC Code')                                 # Adds identifier\n",
    "\n",
    "    scale_col = [col for col in all_col if col not in bool_col]\n",
    "    \n",
    "    return all_col, bool_col, scale_col"
   ]
  },
  {
   "cell_type": "code",
   "execution_count": 4,
   "metadata": {},
   "outputs": [],
   "source": [
    "# max_value = np.max(train[scale_col])\n",
    "# test_capped = np.clip(test[scale_col], 0, max_value)"
   ]
  },
  {
   "cell_type": "code",
   "execution_count": 5,
   "metadata": {},
   "outputs": [],
   "source": [
    "def scale(data, all_col, bool_col, scale_col):\n",
    "    \"\"\"      \n",
    "    Input:      bool_col          List of columns to not scale\n",
    "                scale_col         List of columns to scale\n",
    "\n",
    "    Returns:    scaled            Dataset scaled 0-1\n",
    "            \n",
    "    Scales the data using Min Max and returns it as a dataframe\n",
    "    \"\"\"    \n",
    "    scaler = MinMaxScaler()\n",
    "\n",
    "    scaled = scaler.fit_transform(data.drop(bool_col, axis = 1))\n",
    "    scaled = pd.DataFrame(scaled, columns = scale_col)\n",
    "    scaled = pd.concat([data[bool_col], scaled],axis=1)\n",
    "    \n",
    "    scaled = scaled[all_col]\n",
    "    \n",
    "    return scaled"
   ]
  },
  {
   "cell_type": "code",
   "execution_count": 6,
   "metadata": {},
   "outputs": [],
   "source": [
    "def output_csv(scaled):\n",
    "    \"\"\"      \n",
    "    Input:      scaled            Dataset scaled 0-1\n",
    "            \n",
    "    Exports scaled dataframe as .csv\n",
    "    \"\"\" \n",
    "    scaled.to_csv(\"ScaledDataset.csv\")  "
   ]
  },
  {
   "cell_type": "code",
   "execution_count": 8,
   "metadata": {},
   "outputs": [
    {
     "name": "stdout",
     "output_type": "stream",
     "text": [
      "ye\n"
     ]
    }
   ],
   "source": [
    "file = input(\"Enter file for scaling: \")\n",
    "# file = 'AC_dataset.csv'\n",
    "data = open_dataset(file)\n",
    "all_col, bool_col, scale_col = columns(data)\n",
    "scaled = scale(data, all_col, bool_col, scale_col)\n",
    "output_csv(scaled)"
   ]
  }
 ],
 "metadata": {
  "kernelspec": {
   "display_name": "Python 3",
   "language": "python",
   "name": "python3"
  },
  "language_info": {
   "codemirror_mode": {
    "name": "ipython",
    "version": 3
   },
   "file_extension": ".py",
   "mimetype": "text/x-python",
   "name": "python",
   "nbconvert_exporter": "python",
   "pygments_lexer": "ipython3",
   "version": "3.11.3"
  },
  "orig_nbformat": 4
 },
 "nbformat": 4,
 "nbformat_minor": 2
}
