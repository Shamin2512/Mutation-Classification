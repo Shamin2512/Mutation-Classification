{
 "cells": [
  {
   "cell_type": "code",
   "execution_count": 1,
   "metadata": {},
   "outputs": [
    {
     "data": {
      "text/plain": [
       "'\\nThis script peforms the normalisation of training data for SAAPpred.\\nMin-Max scaling scales all continuous (non-categorical) feaatures to scale 0-1\\n'"
      ]
     },
     "execution_count": 1,
     "metadata": {},
     "output_type": "execute_result"
    }
   ],
   "source": [
    "\"\"\"\n",
    "This script peforms the normalisation of training data for SAAPpred.\n",
    "Min-Max scaling scales all continuous (non-categorical) feaatures to scale 0-1\n",
    "\"\"\""
   ]
  },
  {
   "cell_type": "code",
   "execution_count": 2,
   "metadata": {},
   "outputs": [],
   "source": [
    "import pandas as pd\n",
    "import numpy as np\n",
    "from sklearn.preprocessing import MinMaxScaler "
   ]
  },
  {
   "cell_type": "code",
   "execution_count": 13,
   "metadata": {},
   "outputs": [],
   "source": [
    "train = pd.read_csv(\"Training_Set.csv\")\n",
    "test =  pd.read_csv(\"Testing_Set.csv\")"
   ]
  },
  {
   "cell_type": "code",
   "execution_count": 4,
   "metadata": {},
   "outputs": [],
   "source": [
    "all_col = train.columns.to_list()\n",
    "bool_col = [] \n",
    "for col in train.columns: \n",
    "    if train[col].min() == 0 and train[col].max() == 1:\n",
    "        bool_col.append(col) \n",
    "    elif train[col].nunique() == 0 or train[col].nunique() == 1:\n",
    "        bool_col.append(col) \n",
    "\n",
    "# Boolean and pre-scaled columns that will not be scaled\n",
    "bool_col.insert(0,'AC Code') # Adds identifier\n",
    "\n",
    "scale_col = [col for col in all_col if col not in bool_col]"
   ]
  },
  {
   "cell_type": "code",
   "execution_count": 16,
   "metadata": {},
   "outputs": [],
   "source": [
    "max_value = np.max(train[scale_col])\n",
    "test_capped = np.clip(test[scale_col], 0, max_value)"
   ]
  },
  {
   "cell_type": "code",
   "execution_count": 5,
   "metadata": {},
   "outputs": [],
   "source": [
    "scaler = MinMaxScaler()\n",
    "scaled = scaler.fit_transform(train.drop(bool_col, axis = 1))\n",
    "train_scaled = pd.DataFrame(scaled, columns = scale_col)\n",
    "\n",
    "train_scaled = pd.concat([train[bool_col], train_scaled],axis=1)\n"
   ]
  },
  {
   "cell_type": "code",
   "execution_count": 6,
   "metadata": {},
   "outputs": [],
   "source": [
    "train_scaled = train_scaled[all_col]"
   ]
  },
  {
   "cell_type": "code",
   "execution_count": 7,
   "metadata": {},
   "outputs": [],
   "source": [
    "Training_csv = train_scaled.to_csv(\"Scaled_Training_Set.csv\", index=False)\n"
   ]
  }
 ],
 "metadata": {
  "kernelspec": {
   "display_name": "Python 3",
   "language": "python",
   "name": "python3"
  },
  "language_info": {
   "codemirror_mode": {
    "name": "ipython",
    "version": 3
   },
   "file_extension": ".py",
   "mimetype": "text/x-python",
   "name": "python",
   "nbconvert_exporter": "python",
   "pygments_lexer": "ipython3",
   "version": "3.11.3"
  },
  "orig_nbformat": 4
 },
 "nbformat": 4,
 "nbformat_minor": 2
}
