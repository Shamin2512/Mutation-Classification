{
 "cells": [
  {
   "attachments": {},
   "cell_type": "markdown",
   "metadata": {},
   "source": [
    "DatasetScale.py peforms the scaling of ll non-boolean features.\n",
    "\n",
    "Returns min-max and standard scaling scaled csv"
   ]
  },
  {
   "cell_type": "code",
   "execution_count": 33,
   "metadata": {},
   "outputs": [],
   "source": [
    "\"\"\" Imports the required libraries and packages \"\"\"\n",
    "\n",
    "import pandas as pd\n",
    "import numpy as np\n",
    "from sklearn.preprocessing import (MinMaxScaler,\n",
    "                                   StandardScaler\n",
    "                                   ) "
   ]
  },
  {
   "cell_type": "code",
   "execution_count": 34,
   "metadata": {},
   "outputs": [],
   "source": [
    "def open_dataset(file):\n",
    "    \"\"\"      \n",
    "    Input:      file              csv file to scale \n",
    "\n",
    "    Returns:    data              Dataframe of data to scale\n",
    "            \n",
    "    Open the file for scaling\n",
    "    \"\"\"    \n",
    "    data = pd.read_csv(file, index_col=0)\n",
    "    data.reset_index(drop = True, inplace = True)\n",
    "            \n",
    "    return data"
   ]
  },
  {
   "cell_type": "code",
   "execution_count": 35,
   "metadata": {},
   "outputs": [],
   "source": [
    "def columns(data):\n",
    "    \"\"\"      \n",
    "    Input:      data              Dataframe of data to scale\n",
    "\n",
    "    Returns:    bool_col          List of columns to not scale\n",
    "                scale_col         List of columns to scale\n",
    "            \n",
    "    Identify the continuous data columns to scale\n",
    "    \"\"\"    \n",
    "    all_col = data.columns.to_list()                             #List of all columns\n",
    "    \n",
    "    bool_col = [] \n",
    "    for col in data.columns:                                     # Boolean and pre-scaled columns that will not be scaled\n",
    "        if data[col].min() == 0 and data[col].max() == 1:\n",
    "            bool_col.append(col) \n",
    "        elif data[col].nunique() == 0 or data[col].nunique() == 1:\n",
    "            bool_col.append(col) \n",
    "            \n",
    "    bool_col.insert(0,'AC Code')                                 # Adds identifier\n",
    "\n",
    "    scale_col = [col for col in all_col if col not in bool_col]  # Columns to be scaled\n",
    "    \n",
    "    return all_col, bool_col, scale_col"
   ]
  },
  {
   "cell_type": "code",
   "execution_count": 37,
   "metadata": {},
   "outputs": [],
   "source": [
    "def min_max_scale(data, all_col, bool_col, scale_col):\n",
    "    \"\"\"      \n",
    "    Input:      bool_col          List of columns to not scale\n",
    "                scale_col         List of columns to scale\n",
    "\n",
    "    Returns:    scaled            Dataset normalised 0-1\n",
    "            \n",
    "    Normalise the data using Min Max and return it as a dataframe\n",
    "    \"\"\"    \n",
    "    scaler = MinMaxScaler()\n",
    "\n",
    "    scaled = scaler.fit_transform(data.drop(bool_col, axis = 1))\n",
    "    scaled = pd.DataFrame(scaled, columns = scale_col)\n",
    "    scaled = pd.concat([data[bool_col], scaled],axis=1)\n",
    "    \n",
    "    min_max_scaled = scaled[all_col]\n",
    "    \n",
    "    return min_max_scaled"
   ]
  },
  {
   "cell_type": "code",
   "execution_count": 38,
   "metadata": {},
   "outputs": [],
   "source": [
    "def standard_scale(data, all_col, bool_col, scale_col):\n",
    "    \"\"\"      \n",
    "    Input:      bool_col          List of columns to not scale\n",
    "                scale_col         List of columns to scale\n",
    "\n",
    "    Returns:    scaled            Dataset scaled 0-1\n",
    "            \n",
    "    Standardise the data using standard scaling and return it as a dataframe\n",
    "    \"\"\"    \n",
    "    scaler = StandardScaler()\n",
    "\n",
    "    scaled = scaler.fit_transform(data.drop(bool_col, axis = 1))\n",
    "    scaled = pd.DataFrame(scaled, columns = scale_col)\n",
    "    scaled = pd.concat([data[bool_col], scaled],axis=1)\n",
    "    \n",
    "    standard_scaled = scaled[all_col]\n",
    "    \n",
    "    return standard_scaled"
   ]
  },
  {
   "cell_type": "code",
   "execution_count": 39,
   "metadata": {},
   "outputs": [],
   "source": [
    "def output_csv(min_max_scaled, standard_scaled):\n",
    "    \"\"\"      \n",
    "    Input:      scaled            Dataset scaled 0-1\n",
    "            \n",
    "    Exports scaled dataframes as .csv\n",
    "    \"\"\" \n",
    "    min_max_scaled.to_csv(\"MMDataset.csv\")\n",
    "    standard_scaled.to_csv(\"SDataset.csv\")    "
   ]
  },
  {
   "cell_type": "code",
   "execution_count": 40,
   "metadata": {},
   "outputs": [],
   "source": [
    "\"\"\"Main program\"\"\"\n",
    "\n",
    "file = input(\"Enter file for scaling: \")\n",
    "data = open_dataset(file)\n",
    "all_col, bool_col, scale_col = columns(data)\n",
    "min_max_scaled = min_max_scale(data, all_col, bool_col, scale_col)\n",
    "standard_scaled = standard_scale(data, all_col, bool_col, scale_col)\n",
    "\n",
    "output_csv(min_max_scaled, standard_scaled)"
   ]
  }
 ],
 "metadata": {
  "kernelspec": {
   "display_name": "Python 3",
   "language": "python",
   "name": "python3"
  },
  "language_info": {
   "codemirror_mode": {
    "name": "ipython",
    "version": 3
   },
   "file_extension": ".py",
   "mimetype": "text/x-python",
   "name": "python",
   "nbconvert_exporter": "python",
   "pygments_lexer": "ipython3",
   "version": "3.11.3"
  },
  "orig_nbformat": 4
 },
 "nbformat": 4,
 "nbformat_minor": 2
}
