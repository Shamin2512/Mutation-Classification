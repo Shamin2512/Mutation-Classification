{
 "cells": [
  {
   "attachments": {},
   "cell_type": "markdown",
   "metadata": {},
   "source": [
    "DatasetSplit.py script splits the scaled dataset into 80% training and 20% testing sets"
   ]
  },
  {
   "cell_type": "code",
   "execution_count": 1,
   "metadata": {},
   "outputs": [],
   "source": [
    "import pandas as pd                                                              # Data manipulation in dataframes\n",
    "from sklearn.model_selection import(train_test_split)                            # Splits data frame into the training set and testing set"
   ]
  },
  {
   "cell_type": "code",
   "execution_count": 2,
   "metadata": {},
   "outputs": [],
   "source": [
    "def Train_Test_Split(file, seed):\n",
    "    \"\"\"      \n",
    "    Input:      file             Pre-processed dataset\n",
    "\n",
    "    Returns:    Training_Set     80% training set split\n",
    "                Testing_Set      20% testing set split\n",
    "                \n",
    "    80% training and 20% testing split. Splits are shuffled randomly and index reset. Datasets are scaled by DatasetScalling script\n",
    "    \"\"\"\n",
    "    AC_dataset                  = pd.read_csv(file, index_col = 0)  \n",
    "        \n",
    "    Training_Set, Testing_Set   = train_test_split(AC_dataset,train_size = 0.8, random_state= seed)\n",
    "        \n",
    "    Training_Set.reset_index(drop=True, inplace = True)         #Drop index to avoid training on index values\n",
    "    Testing_Set.reset_index(drop=True, inplace = True)          #Reset index after splitting for compatability with group fold CV\n",
    "    \n",
    "    Training_Set                = Training_Set.sample(frac = 1, random_state = seed) #Shuffle data after splitting\n",
    "    Testing_Set                 = Testing_Set.sample(frac = 1, random_state = seed)\n",
    "    \n",
    "    Training_Set.to_csv('Training_Set.csv')\n",
    "    Testing_Set.to_csv('Testing_Set.csv')"
   ]
  },
  {
   "cell_type": "code",
   "execution_count": 3,
   "metadata": {},
   "outputs": [],
   "source": [
    "\"\"\"Main program\"\"\"\n",
    "\n",
    "with open(\"seed.txt\", \"r\") as f:\n",
    "    seed = int(f.read().strip())\n",
    "    \n",
    "file = input(\"Enter file for splitting: \")\n",
    "Train_Test_Split(file, seed)"
   ]
  }
 ],
 "metadata": {
  "kernelspec": {
   "display_name": "Python 3",
   "language": "python",
   "name": "python3"
  },
  "language_info": {
   "codemirror_mode": {
    "name": "ipython",
    "version": 3
   },
   "file_extension": ".py",
   "mimetype": "text/x-python",
   "name": "python",
   "nbconvert_exporter": "python",
   "pygments_lexer": "ipython3",
   "version": "3.11.3"
  },
  "orig_nbformat": 4
 },
 "nbformat": 4,
 "nbformat_minor": 2
}
