{
 "cells": [
  {
   "cell_type": "code",
   "execution_count": null,
   "id": "1090b0f8",
   "metadata": {},
   "outputs": [],
   "source": [
    "\"\"\"\n",
    "This script peforms the pre-processing needed for MutationClassification program. \n",
    "This includes removing NaNs, encoding class label, and converting the PDB codes in a dataset to Uniprot accession codes.\n",
    "Only converts the 4 alphanumeric characters, not the chain and residue number. \n",
    "\n",
    "Returns a processed dataset. \n",
    "\"\"\"\n",
    "from urllib import request\n",
    "import sys\n",
    "import re\n",
    "import pandas as pd\n",
    "import numpy as np\n",
    "import time\n",
    "import xgboost as xgb\n",
    "from sklearn.preprocessing import LabelEncoder"
   ]
  },
  {
   "cell_type": "code",
   "execution_count": null,
   "id": "fa439e85",
   "metadata": {},
   "outputs": [],
   "source": [
    "def clean_data(file):\n",
    "    df = pd.read_csv(file)\n",
    "\n",
    "    #Remove unrequired NaNs, blank spaces, reset index to run from 0\n",
    "    df.dropna(inplace = True)\n",
    "    df.replace(' ', '_', regex=True, inplace=True)\n",
    "    df.reset_index(drop=True, inplace = True)\n",
    "\n",
    "    #Encodes class labels to numeric values (0 or 1)\n",
    "    df['dataset']\n",
    "    \n",
    "    cleaned_encoded = pd.get_dummies(df, columns=['dataset']) #Encode the PD and SNP columns\n",
    "    cleaned = cleaned_encoded.drop(['dataset_snp'],axis = 1)\n",
    "    \n",
    "    return cleaned"
   ]
  },
  {
   "cell_type": "code",
   "execution_count": null,
   "id": "62506147",
   "metadata": {},
   "outputs": [],
   "source": [
    "def group(cleaned):\n",
    "    group_cleaned = cleaned.sort_values(by=['pdbcode:chain:resnum:mutation'])\n",
    "\n",
    "    PDB_codes = []\n",
    "    for i in range(len(group_cleaned)):\n",
    "        PDB_codes.append(group_cleaned.iloc[i][0].partition(':')[0]) #Split the identifier and takes only PDB code\n",
    "\n",
    "    group_cleaned.drop(['pdbcode:chain:resnum:mutation'], axis=1, inplace=True) #Remove 'pdbcode:chain:resnum:mutation' column\n",
    "    group_cleaned.reset_index(inplace = True, drop = True)\n",
    "\n",
    "    return group_cleaned, PDB_codes"
   ]
  },
  {
   "cell_type": "code",
   "execution_count": null,
   "id": "3978c92e",
   "metadata": {},
   "outputs": [],
   "source": [
    "def PDBSWS(PDB_codes, group_cleaned):\n",
    "    \n",
    "    AC_codes = []\n",
    "    for i in range(len(PDB_codes)):\n",
    "        url = 'http://www.bioinf.org.uk/servers/pdbsws/query.cgi?plain=1&qtype=pdb' #REST output\n",
    "        url += '&id=' + PDB_codes[i] #URL for the specific PDB code of interest\n",
    "        \n",
    "        result = request.urlopen(url).read() #Reads the URL\n",
    "        result = str(result, encoding='utf-8') #Encodes the URL into utf-8 format\n",
    "        result = result.replace('\\n', '#') #Replaces all the new line returns with #, allowing easy pattern matches\n",
    "\n",
    "        pattern  = re.compile('.*AC:\\s+(.*?)#') #Recognises the accession code pattern\n",
    "        match    = pattern.match(result) #Saves the pattern to match\n",
    "        ac       = match.group(1) #Saves only the accession code to variable\n",
    "        \n",
    "        AC_codes.append(ac)\n",
    "    group_cleaned.insert(0, 'AC Code', AC_codes)\n",
    "    group_cleaned.to_csv('AC_dataset.csv')\n",
    "                      \n",
    "    return AC_codes, group_cleaned"
   ]
  },
  {
   "cell_type": "code",
   "execution_count": null,
   "id": "b1f791dc",
   "metadata": {},
   "outputs": [],
   "source": [
    "\"\"\" Main program \"\"\"\n",
    "start = time.time()\n",
    "\n",
    "file = \"E2.csv\"\n",
    "cleaned = clean_data(file)\n",
    "group_cleaned, PDB_codes = group(cleaned)\n",
    "AC_codes, AC_dataset = PDBSWS(PDB_codes, group_cleaned)\n",
    "end = time.time()"
   ]
  },
  {
   "cell_type": "code",
   "execution_count": null,
   "id": "4c83c339",
   "metadata": {},
   "outputs": [],
   "source": [
    "print(f\"Time: {end-start} seconds\\n\\n{AC_dataset}\")"
   ]
  }
 ],
 "metadata": {
  "kernelspec": {
   "display_name": "Python 3 (ipykernel)",
   "language": "python",
   "name": "python3"
  },
  "language_info": {
   "codemirror_mode": {
    "name": "ipython",
    "version": 3
   },
   "file_extension": ".py",
   "mimetype": "text/x-python",
   "name": "python",
   "nbconvert_exporter": "python",
   "pygments_lexer": "ipython3",
   "version": "3.10.7"
  },
  "varInspector": {
   "cols": {
    "lenName": 16,
    "lenType": 16,
    "lenVar": 40
   },
   "kernels_config": {
    "python": {
     "delete_cmd_postfix": "",
     "delete_cmd_prefix": "del ",
     "library": "var_list.py",
     "varRefreshCmd": "print(var_dic_list())"
    },
    "r": {
     "delete_cmd_postfix": ") ",
     "delete_cmd_prefix": "rm(",
     "library": "var_list.r",
     "varRefreshCmd": "cat(var_dic_list()) "
    }
   },
   "types_to_exclude": [
    "module",
    "function",
    "builtin_function_or_method",
    "instance",
    "_Feature"
   ],
   "window_display": true
  }
 },
 "nbformat": 4,
 "nbformat_minor": 5
}
