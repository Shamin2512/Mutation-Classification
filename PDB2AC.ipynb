{
 "cells": [
  {
   "cell_type": "code",
   "execution_count": 1,
   "id": "1090b0f8",
   "metadata": {},
   "outputs": [],
   "source": [
    "\"\"\"\n",
    "This script peforms the pre-processing needed for MutationClassification program. \n",
    "This includes removing NaNs, encoding class label, and converting the PDB codes in a dataset to Uniprot accession codes.\n",
    "Only converts the 4 alphanumeric characters, not the chain and residue number. \n",
    "\n",
    "Returns a processed dataset. \n",
    "\"\"\"\n",
    "from urllib import request\n",
    "import sys\n",
    "import re\n",
    "import pandas as pd\n",
    "import numpy as np\n",
    "import time\n",
    "import xgboost as xgb\n",
    "from sklearn.preprocessing import LabelEncoder"
   ]
  },
  {
   "cell_type": "code",
   "execution_count": 2,
   "id": "fa439e85",
   "metadata": {},
   "outputs": [],
   "source": [
    "def clean_data(file):\n",
    "    df = pd.read_csv(file)\n",
    "\n",
    "    #Remove unrequired NaNs, blank spaces, reset index to run from 0\n",
    "    df.dropna(inplace = True)\n",
    "    df.replace(' ', '_', regex=True, inplace=True)\n",
    "    df.reset_index(drop=True, inplace = True)\n",
    "\n",
    "    #Encodes class labels to numeric values (0 or 1)\n",
    "    df['dataset'] = 1 - (LabelEncoder().fit_transform(df['dataset']))   # Subtract from 1 so that PD = 1 and SNP = 0\n",
    "    cleaned = df\n",
    "        \n",
    "    return cleaned"
   ]
  },
  {
   "cell_type": "code",
   "execution_count": 3,
   "id": "62506147",
   "metadata": {},
   "outputs": [],
   "source": [
    "def group(cleaned):\n",
    "    group_cleaned = cleaned.sort_values(by=['pdbcode:chain:resnum:mutation'])\n",
    "\n",
    "    PDB_codes = []\n",
    "    for i in range(len(group_cleaned)):\n",
    "        PDB_codes.append(group_cleaned.iloc[i][0].partition(':')[0]) #Split the identifier and takes only PDB code\n",
    "\n",
    "    group_cleaned.drop(['pdbcode:chain:resnum:mutation'], axis=1, inplace=True) #Remove 'pdbcode:chain:resnum:mutation' column\n",
    "    group_cleaned.reset_index(inplace = True, drop = True)\n",
    "\n",
    "    return group_cleaned, PDB_codes"
   ]
  },
  {
   "cell_type": "code",
   "execution_count": 4,
   "id": "3978c92e",
   "metadata": {},
   "outputs": [],
   "source": [
    "def PDBSWS(PDB_codes, group_cleaned):\n",
    "    \n",
    "    AC_codes = []\n",
    "    for i in range(len(PDB_codes)):\n",
    "        url = 'http://www.bioinf.org.uk/servers/pdbsws/query.cgi?plain=1&qtype=pdb' #REST output\n",
    "        url += '&id=' + PDB_codes[i] #URL for the specific PDB code of interest\n",
    "        \n",
    "        result = request.urlopen(url).read() #Reads the URL\n",
    "        result = str(result, encoding='utf-8') #Encodes the URL into utf-8 format\n",
    "        result = result.replace('\\n', '#') #Replaces all the new line returns with #, allowing easy pattern matches\n",
    "\n",
    "        pattern  = re.compile('.*AC:\\s+(.*?)#') #Recognises the accession code pattern\n",
    "        match    = pattern.match(result) #Saves the pattern to match\n",
    "        ac       = match.group(1) #Saves only the accession code to variable\n",
    "        \n",
    "        AC_codes.append(ac)\n",
    "    group_cleaned.insert(0, 'AC Code', AC_codes)\n",
    "    group_cleaned.to_csv('AC_dataset.csv')\n",
    "                      \n",
    "    return AC_codes, group_cleaned"
   ]
  },
  {
   "cell_type": "code",
   "execution_count": 5,
   "id": "b1f791dc",
   "metadata": {},
   "outputs": [],
   "source": [
    "\"\"\" Main program \"\"\"\n",
    "start = time.time()\n",
    "\n",
    "file = \"E2.csv\"\n",
    "cleaned = clean_data(file)\n",
    "group_cleaned, PDB_codes = group(cleaned)\n",
    "AC_codes, AC_dataset = PDBSWS(PDB_codes, group_cleaned)\n",
    "end = time.time()"
   ]
  },
  {
   "cell_type": "code",
   "execution_count": 6,
   "id": "4c83c339",
   "metadata": {},
   "outputs": [
    {
     "name": "stdout",
     "output_type": "stream",
     "text": [
      "Time: 411.11514043807983 seconds\n",
      "\n",
      "     AC Code  Binding  SProtFT0  SProtFT1  SProtFT2  SProtFT3  SProtFT4  \\\n",
      "0     P09211      0.0       0.0       0.0       0.0       0.0       0.0   \n",
      "1     P09211      0.0       0.0       0.0       0.0       0.0       0.0   \n",
      "2     Q13469      0.0       0.0       0.0       0.0       0.0       0.0   \n",
      "3     P10912      0.0       0.0       0.0       0.0       0.0       0.0   \n",
      "4     P10912      0.0       0.0       0.0       0.0       0.0       0.0   \n",
      "...      ...      ...       ...       ...       ...       ...       ...   \n",
      "3360  P26367      0.0       0.0       0.0       0.0       0.0       0.0   \n",
      "3361  P26367      0.0       0.0       0.0       0.0       0.0       0.0   \n",
      "3362  P26367      0.0       0.0       0.0       0.0       0.0       0.0   \n",
      "3363  P26367      0.0       0.0       0.0       0.0       0.0       0.0   \n",
      "3364  P04090      1.0       0.0       0.0       0.0       0.0       0.0   \n",
      "\n",
      "      SProtFT5  SProtFT6  SProtFT7  ...  NLargest6  NLargest7  NLargest8  \\\n",
      "0          0.0       0.0       0.0  ...     72.924     72.765     71.665   \n",
      "1          0.0       0.0       0.0  ...     72.924     72.765     71.665   \n",
      "2          0.0       0.0       0.0  ...     58.939     56.680     52.867   \n",
      "3          0.0       0.0       0.0  ...     69.638     64.705     60.273   \n",
      "4          0.0       0.0       0.0  ...     69.638     64.705     60.273   \n",
      "...        ...       ...       ...  ...        ...        ...        ...   \n",
      "3360       0.0       0.0       0.0  ...     18.348     17.344     16.832   \n",
      "3361       0.0       0.0       0.0  ...     18.348     17.344     16.832   \n",
      "3362       0.0       0.0       0.0  ...     18.348     17.344     16.832   \n",
      "3363       0.0       0.0       0.0  ...     18.348     17.344     16.832   \n",
      "3364       0.0       0.0       0.0  ...      3.420      3.250      0.000   \n",
      "\n",
      "      NLargest9  NLargest10    Clash  Glycine   Proline  CisPro  dataset  \n",
      "0        70.664      64.469    -4.19   -100.0 -100.0000     0.0        0  \n",
      "1        70.664      64.469    -0.29   -100.0 -100.0000     0.0        0  \n",
      "2        49.065      44.336    -5.72   -100.0 -100.0000     0.0        0  \n",
      "3        60.189      54.902    -4.87   -100.0 -100.0000     0.0        1  \n",
      "4        60.189      54.902    -7.57   -100.0 -100.0000     0.0        1  \n",
      "...         ...         ...      ...      ...       ...     ...      ...  \n",
      "3360     16.270      15.453    -7.94   -100.0 -100.0000     0.0        1  \n",
      "3361     16.270      15.453   -10.50   -100.0 -100.0000     0.0        1  \n",
      "3362     16.270      15.453    -6.17   -100.0 -100.0000     0.0        1  \n",
      "3363     16.270      15.453  3551.52   -100.0    2.4384     0.0        1  \n",
      "3364      0.000       0.000    -5.02   -100.0 -100.0000     0.0        0  \n",
      "\n",
      "[3365 rows x 49 columns]\n"
     ]
    }
   ],
   "source": [
    "print(f\"Time: {end-start} seconds\\n\\n{AC_dataset}\")"
   ]
  }
 ],
 "metadata": {
  "kernelspec": {
   "display_name": "Python 3 (ipykernel)",
   "language": "python",
   "name": "python3"
  },
  "language_info": {
   "codemirror_mode": {
    "name": "ipython",
    "version": 3
   },
   "file_extension": ".py",
   "mimetype": "text/x-python",
   "name": "python",
   "nbconvert_exporter": "python",
   "pygments_lexer": "ipython3",
   "version": "3.10.7"
  },
  "varInspector": {
   "cols": {
    "lenName": 16,
    "lenType": 16,
    "lenVar": 40
   },
   "kernels_config": {
    "python": {
     "delete_cmd_postfix": "",
     "delete_cmd_prefix": "del ",
     "library": "var_list.py",
     "varRefreshCmd": "print(var_dic_list())"
    },
    "r": {
     "delete_cmd_postfix": ") ",
     "delete_cmd_prefix": "rm(",
     "library": "var_list.r",
     "varRefreshCmd": "cat(var_dic_list()) "
    }
   },
   "types_to_exclude": [
    "module",
    "function",
    "builtin_function_or_method",
    "instance",
    "_Feature"
   ],
   "window_display": true
  }
 },
 "nbformat": 4,
 "nbformat_minor": 5
}
