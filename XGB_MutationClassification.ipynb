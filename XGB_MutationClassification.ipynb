{
 "cells": [
  {
   "cell_type": "markdown",
   "id": "0fcba82d",
   "metadata": {},
   "source": [
    "### Import library"
   ]
  },
  {
   "cell_type": "code",
   "execution_count": 91,
   "id": "5d94d2bb",
   "metadata": {},
   "outputs": [
    {
     "data": {
      "text/plain": [
       "' Example 2 is inbalanced data set; ~2200 in PD and ~1100 in SNP\\n    Goal is to predict if mutation is SNP or PD\\n    XG Boost\\n        \\n    Total samples: 3368\\n    2254 PD samples\\n    1111 SNP samples\\n    3 NA samples\\n'"
      ]
     },
     "execution_count": 91,
     "metadata": {},
     "output_type": "execute_result"
    }
   ],
   "source": [
    "\"\"\" Example 2 is inbalanced data set; ~2200 in PD and ~1100 in SNP\n",
    "    Goal is to predict if mutation is SNP or PD\n",
    "    XG Boost\n",
    "        \n",
    "    Total samples: 3368\n",
    "    2254 PD samples\n",
    "    1111 SNP samples\n",
    "    3 NA samples\n",
    "\"\"\""
   ]
  },
  {
   "cell_type": "code",
   "execution_count": 92,
   "id": "5737f62f",
   "metadata": {},
   "outputs": [],
   "source": [
    "\"\"\" Imports the required libraries and packages \"\"\"\n",
    "\n",
    "import pandas as pd                                                              # Data manipulation in dataframes\n",
    "import numpy as np                                                               # Array manipulation\n",
    "import xgboost as xgb                                                            # Gradient boosting package\n",
    "\n",
    "import random as rd                                                              # Random seed generation\n",
    "import time                                                                      # Time program run time\n",
    "import sys\n",
    "\n",
    "import matplotlib.pyplot as plt\n",
    "\n",
    "from sklearn.metrics import(\n",
    "    matthews_corrcoef,                                                           # MCC for evaluation\n",
    "    # balanced_accuracy_score, #hyperparameter evaluation\n",
    "    # f1_score,  #hyperparameter evaluation\n",
    "    confusion_matrix,                                                            # Confusion matrix for classification evalutation\n",
    "    classification_report                                                        # Return the F1, precision, and recall of a prediction\n",
    "    )\n",
    "\n",
    "from sklearn.model_selection import(\n",
    "    train_test_split,                                                            # Splits data frame into the training set and testing set\n",
    "    # GridSearchCV,  # Searches all hyperparameters\n",
    "    # RandomizedSearchCV, # Searches random range of hyperparameters\n",
    "    GroupKFold                                                                   # K-fold CV with as groups\n",
    "        )\n",
    "\n",
    "from sklearn.utils import shuffle\n",
    "# from sklearn.ensemble import RandomForestClassifier                              # SK learn API for classificastion random forests\n",
    "\n",
    "np.set_printoptions(precision = 3,threshold=np.inf, suppress=True)               # Full array printing"
   ]
  },
  {
   "cell_type": "markdown",
   "id": "bb451c9e",
   "metadata": {},
   "source": [
    "### Split dataset into training and validation sets"
   ]
  },
  {
   "cell_type": "code",
   "execution_count": 93,
   "id": "bbfacd1c",
   "metadata": {},
   "outputs": [],
   "source": [
    "def Train_Test_Split(file):\n",
    "    \"\"\"      \n",
    "    Input:      file             Pre-processed dataset done by PDB2AC script\n",
    "\n",
    "    Returns:    Training_Set     80% training set split\n",
    "                Testing_Set      20% testing set split\n",
    "                \n",
    "    80% training and 20% testing split. Splits are shuffled randomly and index reset\n",
    "    \"\"\"\n",
    "    AC_dataset                  = pd.read_csv(file)    \n",
    "    Training_Set, Testing_Set   = train_test_split(AC_dataset,train_size = 0.8)\n",
    "    \n",
    "    Training_Set.reset_index(drop=True, inplace = True) #Drop index to avoid training on index values\n",
    "    Testing_Set.reset_index(drop=True, inplace = True)  #Reset index after splitting for compatability with CV()\n",
    "        \n",
    "    Training_Set                = Training_Set.sample(frac = 1) #Shuffle data after splitting\n",
    "    Testing_Set                 = Testing_Set.sample(frac = 1)\n",
    "    \n",
    "    return Training_Set, Testing_Set"
   ]
  },
  {
   "cell_type": "code",
   "execution_count": 94,
   "id": "89126467",
   "metadata": {},
   "outputs": [],
   "source": [
    "def data(Training_Set, Testing_Set):\n",
    "    \n",
    "    train_features     = Training_Set.drop(['AC Code','dataset'], axis =1)        #Features for training\n",
    "    train_labels       = Training_Set['dataset']                                  #Class labels for training\n",
    "    groups             = Training_Set['AC Code'].to_list()                        #List of proteins for grouping\n",
    "    \n",
    "    test_features     = Testing_Set.drop(['AC Code','dataset'], axis =1)         #Features for testing\n",
    "    test_labels       = Testing_Set['dataset']                                   #Class labels for testing\n",
    "        \n",
    "    return(train_features, train_labels, test_features, test_labels)"
   ]
  },
  {
   "cell_type": "markdown",
   "id": "b2e8b7f5",
   "metadata": {},
   "source": [
    "### Initial evaluation"
   ]
  },
  {
   "cell_type": "code",
   "execution_count": 95,
   "id": "cf8d9857",
   "metadata": {},
   "outputs": [],
   "source": [
    "def test(Training_Set, Testing_Set):\n",
    "    \"\"\" \n",
    "    Input:  Training_Set   Training data\n",
    "            Testing_Set    Testing data\n",
    "\n",
    "    Evaluate training data before CV and balancing. Gradient boosting for prediction on the test data. \n",
    "    True values are testing data class labels\n",
    "    \"\"\"\n",
    "    Initial_train  = Training_Set.drop(['dataset','AC Code'], axis=1, inplace = False)\n",
    "    labels_train = Training_Set['dataset'].to_numpy()\n",
    "\n",
    "    \n",
    "    Initial_test   = Testing_Set.drop(['dataset','AC Code'],axis=1, inplace = False)\n",
    "    labels_test = Testing_Set['dataset'].to_numpy()\n",
    "\n",
    "    \n",
    "    d_train = xgb.DMatrix(Initial_train, labels_train)\n",
    "    d_test = xgb.DMatrix(Initial_test, labels_test)\n",
    "\n",
    "    params = {\n",
    "    'booster': 'gbtree',\n",
    "    'objective': 'binary:hinge', \n",
    "    }\n",
    "    XGB_initial = xgb.train(params, d_train)\n",
    "    \n",
    "    Output_pred = XGB_initial.predict(d_test)\n",
    "    print(f\"              **Initial Evaluation**\")\n",
    "    print(f\"Confusion Matrix:\\n {confusion_matrix(labels_test, Output_pred)}\")\n",
    "    print(f\"MCC              {matthews_corrcoef(labels_test, Output_pred)}\\n\")\n"
   ]
  },
  {
   "cell_type": "markdown",
   "id": "05b3a2df",
   "metadata": {},
   "source": [
    "## Group K-fold CV (outer loop)"
   ]
  },
  {
   "cell_type": "code",
   "execution_count": 96,
   "id": "975ff775",
   "metadata": {},
   "outputs": [],
   "source": [
    "# def CV(Training_Set):\n",
    "#     \"\"\"      \n",
    "#     Input:      Training_Set     80% training set split\n",
    "            \n",
    "#     Returns:    IT_list         List of training features for each fold\n",
    "#                 LT_list         List of training class labels for each fold\n",
    "#                 IV_list         List of validation features for each fold\n",
    "#                 LV_list         List of validation class labels for each fold\n",
    "\n",
    "#     K-fold CV with protein groups separated between training and validation sets for each fold. Creates 5 folds.\n",
    "#     \"\"\"\n",
    "    \n",
    "#     features     = Training_Set.drop(['AC Code','dataset'], axis =1)         #Features for training\n",
    "#     labels       = Training_Set['dataset']                         #Class labels for training\n",
    "#     groups       = Training_Set['AC Code'].to_list()               #List of proteins for grouping\n",
    "    \n",
    "#     params = {\n",
    "#     'booster': 'gbtree',\n",
    "#     'objective': 'binary:hinge', \n",
    "#     }\n",
    "    \n",
    "#     d_train = xgb.DMatrix(features, labels)\n",
    "#     xgb_model = xgb.train(params, d_train)\n",
    "        \n",
    "#     CV = xgb.cv(\n",
    "#         params=params,\n",
    "#         dtrain = d_train,\n",
    "#         nfold = 5,\n",
    "#         early_stopping_rounds= 20,\n",
    "#         metrics='error',\n",
    "#         as_pandas=True,\n",
    "#     )\n",
    "    \n",
    "#     print(CV)\n",
    "        \n",
    "#     # CV             = GroupKFold(n_splits = 5)                           #Creates 5 splits\n",
    "    \n",
    "#     # IT_list = []\n",
    "#     # LT_list = []\n",
    "#     # IV_list = []\n",
    "#     # LV_list = []\n",
    "    \n",
    "#     # for train_idx, val_idx in CV.split(Input_CV, Output_CV, Protein_Groups): #Generates the indices to be used for a training and validation split. Indicies are unique to train/ val sets\n",
    "        \n",
    "#     #     Rd = np.random.randint(time.time())                                  #Random number from 1 to time since epoch\n",
    "\n",
    "#     #     Input_train                        = Input_CV.loc[train_idx]         #New dataframe from selected indices\n",
    "#     #     Classes_train                      = Output_CV.loc[train_idx]\n",
    "#     #     Input_train.drop(['AC Code'], axis = 1, inplace = True)              #Group identifer not needed for training\n",
    "                \n",
    "#     #     Input_val                          = Input_CV.loc[val_idx]\n",
    "#     #     Classes_val                        = Output_CV.loc[val_idx]\n",
    "#     #     Input_val.drop(['AC Code'], axis   = 1, inplace = True)\n",
    "\n",
    "#     #     IT_list.append(Input_train.sample(frac=1, random_state=Rd))          #Shuffles lists, random state to ensure features and labels match for each fold\n",
    "#     #     LT_list.append(Classes_train.sample(frac=1, random_state=Rd))\n",
    "#     #     IV_list.append(Input_val.sample(frac=1, random_state=(Rd-1)))\n",
    "#     #     LV_list.append(Classes_val.sample(frac=1, random_state=(Rd-1)))\n",
    "        \n",
    "\n",
    "#     return(xgb_model)\n"
   ]
  },
  {
   "cell_type": "markdown",
   "id": "a335a585",
   "metadata": {},
   "source": [
    "## Balancing (inner loop)"
   ]
  },
  {
   "cell_type": "code",
   "execution_count": 97,
   "id": "6b6924e9",
   "metadata": {},
   "outputs": [],
   "source": [
    "def find_minority_class(classData):\n",
    "    \"\"\" \n",
    "    Input:        classData  Array of class labels\n",
    "\n",
    "    Returns:      minClass   The label for the minority class\n",
    "                  minSize    The number of items in the minority class\n",
    "                  maxSize    The number of items in the majority class\n",
    "\n",
    "    Find information about class size imbalance\n",
    "    \"\"\"\n",
    "    \n",
    "    Minority_count = 0\n",
    "    Majority_count = 0\n",
    "    for datum in classData:\n",
    "        if datum == 1:\n",
    "            Majority_count += 1\n",
    "        elif datum == 0:\n",
    "            Minority_count += 1\n",
    "\n",
    "    minClass = 0\n",
    "    minSize  = Minority_count\n",
    "    maxSize  = Majority_count\n",
    "    if Minority_count > Majority_count:\n",
    "        minClass = 1\n",
    "        minSize  = Majority_count\n",
    "        maxSize  = Minority_count\n",
    "\n",
    "    return minClass, minSize, maxSize"
   ]
  },
  {
   "cell_type": "code",
   "execution_count": 98,
   "id": "5d1241bf",
   "metadata": {},
   "outputs": [],
   "source": [
    "def balance(inData, classData, minClass, minSize):\n",
    "    \"\"\" \n",
    "    Input:        inData          array of input data\n",
    "                  classData       array of classes assigned\n",
    "                  minorityClass   class label for the minority class\n",
    "                  minoritySize    size of the minority class\n",
    "\n",
    "    Returns:      array of indexes that are of interest for a balanced dataset\n",
    "\n",
    "    Perform the actual balancing for a fold between SNPs and PDs\n",
    "    \"\"\"\n",
    "    usedLines = [False] * len(inData) #Array of false for length of data\n",
    "    for i in range(len(inData)):\n",
    "        if classData.array[i] == minClass:\n",
    "            usedLines[i] = True\n",
    "            \n",
    "    usedCount = 0\n",
    "    while usedCount < minSize:\n",
    "        i = rd.randrange(len(inData))\n",
    "        if usedLines[i] == False:\n",
    "            usedCount += 1\n",
    "            usedLines[i] = True       \n",
    "\n",
    "    return usedLines"
   ]
  },
  {
   "cell_type": "code",
   "execution_count": 99,
   "id": "d5c54edb",
   "metadata": {},
   "outputs": [],
   "source": [
    "def balance_data(inData, classData, usedLines):\n",
    "    \"\"\"     \n",
    "    Input:      inData      array of input training data\n",
    "                classData   array of classes assigned to training data\n",
    "                usedLines   array of line indexes to print\n",
    "\n",
    "    Returns:    input_balance  Dataframe of balanced training features\n",
    "                label_balance  Dataframe of balanced training labels\n",
    "                       \n",
    "    Create dataframe of the input training data and classes used. The index [i] is the identifier between the two arrays.\n",
    "    \"\"\"\n",
    "    input_balance = []\n",
    "    label_balance = []\n",
    "    \n",
    "    for i in range(len(inData)):\n",
    "        if usedLines[i] == True:\n",
    "            input_i = inData.iloc[i]\n",
    "            input_balance.append(input_i)\n",
    "            \n",
    "            label_i = classData.iloc[i]\n",
    "            label_balance.append(label_i)\n",
    "    \n",
    "    return input_balance, label_balance"
   ]
  },
  {
   "cell_type": "markdown",
   "id": "27419a33",
   "metadata": {},
   "source": [
    "### Balance for n folds"
   ]
  },
  {
   "cell_type": "code",
   "execution_count": 100,
   "id": "6746be83",
   "metadata": {},
   "outputs": [],
   "source": [
    "def Balance_ratio(maxSize, minSize): \n",
    "    \"\"\" \n",
    "    Input:      maxSize     The number of items in the majority class\n",
    "                minSize     The number of items in the minority class\n",
    "\n",
    "    Returns:    BF          Number of balancing folds\n",
    "\n",
    "    Calculate the number of balancing folds needed using ratio of majority to minority class size. Double to ensure sufficient\n",
    "    majority class instances are sampled, then + 1 to make odd to allow weighted vote.\n",
    "    \"\"\"\n",
    "    Divide = maxSize/minSize\n",
    "    BF = (2 * round(Divide)) + 1 #Double ratio to nearest integer\n",
    "    return BF"
   ]
  },
  {
   "cell_type": "code",
   "execution_count": 101,
   "id": "12239dc9",
   "metadata": {
    "scrolled": false
   },
   "outputs": [],
   "source": [
    "def Balance_Folds(BF, inData, classData, minClass, minSize):\n",
    "    \"\"\" \n",
    "    Input:      BF                Number of balancing folds\n",
    "                usedLines         Array of line indices to use\n",
    "                input_balance     Dataframe of balanced training features\n",
    "                label_balance     Dataframe of balanced training labels\n",
    "                    \n",
    "    Returns:    Input_folds       List of balanced training feature folds\n",
    "                Output_folds      List of balanced training label folds\n",
    "\n",
    "    Perform the balance_data() function n number of balancing fold times. Return lists for feature data and labels\n",
    "    where each item is the output of balance_data()\n",
    "    \"\"\"\n",
    "    Input_folds  = []\n",
    "    Output_folds = []\n",
    "\n",
    "    for i in range(BF):\n",
    "        usedLines                    = balance(inData, classData, minClass, minSize)\n",
    "        input_balance, label_balance = balance_data(inData, classData, usedLines)\n",
    "        \n",
    "        Input_folds.append(input_balance)\n",
    "        Output_folds.append(label_balance)\n",
    "            \n",
    "    return Input_folds, Output_folds"
   ]
  },
  {
   "attachments": {},
   "cell_type": "markdown",
   "id": "21cd1aaa",
   "metadata": {},
   "source": [
    "### XGB hyperparameter tuning"
   ]
  },
  {
   "cell_type": "code",
   "execution_count": 102,
   "id": "0840d9dc",
   "metadata": {
    "scrolled": true
   },
   "outputs": [],
   "source": [
    "# def Hyperparameter(BF, Input_folds, Output_folds):\n",
    "#     \"\"\" Input:      BF                Number of balancing folds needed\n",
    "#                     Input_folds       List of 5 balanced arrays of training data\n",
    "#                     Output_folds      List of 5 balanced arrays of training data's labels\n",
    "\n",
    "#         Returns:    BF_RFC_HP         List of optimized hyperparameters for each RFC\n",
    "\n",
    "#         Perform RandomSearchCV on each RFC to optimize number of trees, max depth and max samples\n",
    "#     \"\"\"  \n",
    "#     estimator = RandomForestClassifier()\n",
    "#     param_grid = {\n",
    "#                 'n_estimators':np.arange(50,500,50),\n",
    "#                 'max_depth': np.arange(2, 10, 2),\n",
    "#                 'max_samples': np.arange(0.2, 1.2, 0.2)\n",
    "#                   }\n",
    "#     BF_RFC_HP = []\n",
    "\n",
    "#     for i in range(BF):\n",
    "#         HPtuning = RandomizedSearchCV(\n",
    "#             estimator,\n",
    "#             param_grid, \n",
    "#             scoring = 'balanced_accuracy',\n",
    "#             cv = 10,\n",
    "#             n_jobs = 6, #how many cores to run in parallel\n",
    "#             verbose = 2\n",
    "#             ).fit(Input_folds[i], Output_folds[i])\n",
    "#         BF_RFC_HP.append(HPtuning.best_params_)\n",
    "    \n",
    "#     return(BF_RFC_HP)"
   ]
  },
  {
   "attachments": {},
   "cell_type": "markdown",
   "id": "796af0e8",
   "metadata": {},
   "source": [
    "### Train XGB on the trainings folds"
   ]
  },
  {
   "cell_type": "code",
   "execution_count": 103,
   "id": "1decd7a3",
   "metadata": {},
   "outputs": [],
   "source": [
    "def BF_fitting(BF, Input_folds, Output_folds): \n",
    "    \"\"\" \n",
    "    Input:      BF                Number of balancing folds                      \n",
    "                Input_folds       List of balanced training feature folds\n",
    "                Output_folds      List of balanced training label folds\n",
    "\n",
    "    Returns:    BF_GBC            List of gradient boosted trees trained on each balancing fold\n",
    "\n",
    "    Create GBC model that returns probability predictions for each fold, using output of Balance_Folds() as training data\n",
    "    \"\"\"    \n",
    "    params = {\n",
    "    'booster': 'gbtree',\n",
    "    'objective': 'binary:logistic', \n",
    "    }\n",
    "    \n",
    "    BF_GBC = []\n",
    "    for i in range(BF):\n",
    "        d_train = xgb.DMatrix(Input_folds[i], Output_folds[i])\n",
    "        BF_GBC.append(xgb.train(params, d_train)) #Generates and fits a GBC for each fold's training data\n",
    "        \n",
    "    return BF_GBC"
   ]
  },
  {
   "attachments": {},
   "cell_type": "markdown",
   "id": "b0dd278c",
   "metadata": {},
   "source": [
    "#### Validate each GBC on validation set, for each fold"
   ]
  },
  {
   "cell_type": "code",
   "execution_count": 104,
   "id": "acc41cbb",
   "metadata": {},
   "outputs": [],
   "source": [
    "def BF_validate(BF_GBC, ValData):\n",
    "    \"\"\" \n",
    "    Input:      BF_RFC          List of RFCs trained on balancing folds\n",
    "                ValData         Unseen validation features from CV fold\n",
    "                \n",
    "    Returns:    Prob_matrix     List of arrays. Each item is 2D matrix where the 1st dimension is each subset in balancing fold, \n",
    "                                2nd dimension is predicted probability\n",
    "    \n",
    "    Test the trained RFCs on the test set, then for every instance, outputs the predicted probability for each class\n",
    "    \"\"\"\n",
    "    \n",
    "    Prob_matrix = []\n",
    "    \n",
    "    for i in range(len(BF_GBC)):\n",
    "        Prob = BF_GBC[i].inplace_predict(ValData.values) #Predicts the probability of an instance belonging to major or minor class\n",
    "        Prob_matrix.append(Prob)   \n",
    "        \n",
    "    return Prob_matrix"
   ]
  },
  {
   "cell_type": "markdown",
   "id": "0c4b8fdd",
   "metadata": {},
   "source": [
    "### Weighted voting"
   ]
  },
  {
   "cell_type": "code",
   "execution_count": 105,
   "id": "71033215",
   "metadata": {},
   "outputs": [],
   "source": [
    "def Weighted_Vote(Prob_matrix):\n",
    "    \"\"\" \n",
    "    Input:      Prob_matrix     List of arrays. 2D matrix where the 1st dimension is each subset in balancing fold, \n",
    "                                2nd dimension is predicted probability\n",
    "\n",
    "    Returns:    Final_vote      Weighted vote classification\n",
    "\n",
    "    Calculate the final weighted vote using confidence scores (Sc) from Prob_matrix. Binary classification formula:\n",
    "    Sc = (S0 -T)/(1-T) if S0> T\n",
    "    Sc = (T-S0)/T if S0 < T\n",
    "    \"\"\"\n",
    "    # Sc_SNP = []\n",
    "    # Sc_PD = []\n",
    "    \n",
    "    # for i in range(len(Prob_matrix)):\n",
    "    #     Sc_SNP.append(Prob_matrix[i][:,0])\n",
    "    #     Sc_PD.append(Prob_matrix[i][:,1])\n",
    "    \n",
    "    T = 0.45                                    #Lower threshold gives more sensitivity to PDs over SNPs\n",
    "    Sc_SNP = []\n",
    "    Sc_PD = []\n",
    "\n",
    "    for fold in range(len(Prob_matrix)):        #Calculates SNP Sc all instances in each fold\n",
    "\n",
    "        Sc_SNP_fold = []                        #List of the Sc for each fold\n",
    "        for value in range(len(Prob_matrix[fold][:,0])):\n",
    "            S0 = Prob_matrix[fold][:,0][value]  #Each SNP's confidence in prob matrix fold\n",
    "            if S0 < T:\n",
    "                Sc = (T - S0)/T\n",
    "            elif S0 >= T:\n",
    "                Sc = (S0 - T)/(1 - T)        \n",
    "            Sc_SNP_fold.append(Sc)              #List of Sc for each fold\n",
    "        Sc_SNP.append(Sc_SNP_fold)              #List of folds with Sc\n",
    "\n",
    "    for fold in range(len(Prob_matrix)):        #Calculates PD Sc all instances in each fold\n",
    "        Sc_PD_fold = []\n",
    "        for value in range(len(Prob_matrix[fold][:,1])):\n",
    "            S0 = Prob_matrix[fold][:,1][value]  #Each PD's confidence in prob matrix fold\n",
    "            if S0 < T:\n",
    "                Sc = (T - S0)/T\n",
    "            elif S0 >= T:\n",
    "                Sc = (S0 - T)/(1 - T)        \n",
    "            Sc_PD_fold.append(Sc)\n",
    "        Sc_PD.append(Sc_PD_fold)\n",
    "        \n",
    "    columnSNP = np.stack(Sc_SNP)                #Covert list of lists to array, shape (5,~539)\n",
    "    columnPD  = np.stack(Sc_PD)\n",
    "\n",
    "    Sum_SNP   = np.sum(columnSNP, axis = 0)     #Sum of all SNP confidence scores. 1D Array\n",
    "    Sum_PD    = np.sum(columnPD, axis = 0)      #Sum of all PD confidence scores. 1D Array\n",
    "    \n",
    "    \n",
    "    Vote_arr  = [] \n",
    "\n",
    "    for i in range(len(Sum_PD)):\n",
    "        if Sum_PD[i] >= Sum_SNP[i]:\n",
    "            Vote_arr.append([1])                #Append PD classifications to list\n",
    "        elif Sum_SNP[i] > Sum_PD[i]:\n",
    "            Vote_arr.append([0])                #Append SNP classifications to list\n",
    "\n",
    "    Final_vote = np.stack(Vote_arr)             #Converts list of arrays to a 2D array\n",
    "    Final_vote = Final_vote.ravel()             #Flattens 2D array to 1D array\n",
    "\n",
    "    return(Final_vote, Sum_PD, Sum_SNP)         #Returns the final confidence scores\n"
   ]
  },
  {
   "cell_type": "markdown",
   "id": "a18f5b78",
   "metadata": {},
   "source": [
    "## Final confidence"
   ]
  },
  {
   "cell_type": "code",
   "execution_count": 106,
   "id": "2ae1157a",
   "metadata": {},
   "outputs": [],
   "source": [
    "# def Final_score(Sum_PD, Sum_SNP, BF):\n",
    "#     \"\"\" \n",
    "#     Input:      Sum_PD      Sum of confidence score for PD predictions\n",
    "#                 Sum_SNP     Sum of confidence score for SNP predictions\n",
    "\n",
    "#     Returns:    S_out       Final confidence score\n",
    "\n",
    "#     Calculate the final confidence score\n",
    "#     \"\"\"\n",
    "    \n",
    "#     S_Out = np.abs((Sum_PD - Sum_SNP) /(BF*2))\n",
    "        \n",
    "#     return S_Out"
   ]
  },
  {
   "cell_type": "code",
   "execution_count": 107,
   "id": "92f36545",
   "metadata": {
    "scrolled": true
   },
   "outputs": [],
   "source": [
    "def evalutation(Final_vote, test_labels):\n",
    "    \"\"\" \n",
    "    Input:      Testing_Set        Unseen 20% testing data\n",
    "\n",
    "    Evaluate each fold with confusion matrix and MCC\n",
    "    \"\"\"\n",
    "\n",
    "    Output_pred = Final_vote\n",
    "    print(f\"-----------------------------------------------------\\n              ***Fold Evaluation***\\n\")\n",
    "    print(f\"Confusion Matrix:\\n {confusion_matrix(test_labels, Output_pred)}\")\n",
    "    print(f\"{classification_report(test_labels, Output_pred)}\\nMCC                {matthews_corrcoef(test_labels, Output_pred)}\\n\")"
   ]
  },
  {
   "cell_type": "markdown",
   "id": "aa67e232",
   "metadata": {},
   "source": [
    "### Main Program"
   ]
  },
  {
   "cell_type": "code",
   "execution_count": 108,
   "id": "9a74965e",
   "metadata": {},
   "outputs": [
    {
     "name": "stdout",
     "output_type": "stream",
     "text": [
      "              **Initial Evaluation**\n",
      "Confusion Matrix:\n",
      " [[370  72]\n",
      " [ 66 165]]\n",
      "MCC              0.5480982613782238\n",
      "\n"
     ]
    },
    {
     "ename": "IndexError",
     "evalue": "too many indices for array: array is 1-dimensional, but 2 were indexed",
     "output_type": "error",
     "traceback": [
      "\u001b[1;31m---------------------------------------------------------------------------\u001b[0m",
      "\u001b[1;31mIndexError\u001b[0m                                Traceback (most recent call last)",
      "\u001b[1;32mc:\\Users\\shami\\git\\XGB\\XGB_MutationClassification.ipynb Cell 30\u001b[0m in \u001b[0;36m1\n\u001b[0;32m     <a href='vscode-notebook-cell:/c%3A/Users/shami/git/XGB/XGB_MutationClassification.ipynb#X40sZmlsZQ%3D%3D?line=15'>16</a>\u001b[0m BF_GBC                      \u001b[39m=\u001b[39m BF_fitting(BF, Input_folds, Output_folds)\n\u001b[0;32m     <a href='vscode-notebook-cell:/c%3A/Users/shami/git/XGB/XGB_MutationClassification.ipynb#X40sZmlsZQ%3D%3D?line=16'>17</a>\u001b[0m Prob_matrix                 \u001b[39m=\u001b[39m BF_validate(BF_GBC, ValData)\n\u001b[1;32m---> <a href='vscode-notebook-cell:/c%3A/Users/shami/git/XGB/XGB_MutationClassification.ipynb#X40sZmlsZQ%3D%3D?line=18'>19</a>\u001b[0m Final_vote, Sum_PD, Sum_SNP \u001b[39m=\u001b[39m Weighted_Vote(Prob_matrix)\n\u001b[0;32m     <a href='vscode-notebook-cell:/c%3A/Users/shami/git/XGB/XGB_MutationClassification.ipynb#X40sZmlsZQ%3D%3D?line=19'>20</a>\u001b[0m \u001b[39m# S_Out                       = Final_score(Sum_PD, Sum_SNP, BF)\u001b[39;00m\n\u001b[0;32m     <a href='vscode-notebook-cell:/c%3A/Users/shami/git/XGB/XGB_MutationClassification.ipynb#X40sZmlsZQ%3D%3D?line=21'>22</a>\u001b[0m evalutation(Final_vote, test_labels)\n",
      "\u001b[1;32mc:\\Users\\shami\\git\\XGB\\XGB_MutationClassification.ipynb Cell 30\u001b[0m in \u001b[0;36m2\n\u001b[0;32m     <a href='vscode-notebook-cell:/c%3A/Users/shami/git/XGB/XGB_MutationClassification.ipynb#X40sZmlsZQ%3D%3D?line=22'>23</a>\u001b[0m \u001b[39mfor\u001b[39;00m fold \u001b[39min\u001b[39;00m \u001b[39mrange\u001b[39m(\u001b[39mlen\u001b[39m(Prob_matrix)):        \u001b[39m#Calculates SNP Sc all instances in each fold\u001b[39;00m\n\u001b[0;32m     <a href='vscode-notebook-cell:/c%3A/Users/shami/git/XGB/XGB_MutationClassification.ipynb#X40sZmlsZQ%3D%3D?line=24'>25</a>\u001b[0m     Sc_SNP_fold \u001b[39m=\u001b[39m []                        \u001b[39m#List of the Sc for each fold\u001b[39;00m\n\u001b[1;32m---> <a href='vscode-notebook-cell:/c%3A/Users/shami/git/XGB/XGB_MutationClassification.ipynb#X40sZmlsZQ%3D%3D?line=25'>26</a>\u001b[0m     \u001b[39mfor\u001b[39;00m value \u001b[39min\u001b[39;00m \u001b[39mrange\u001b[39m(\u001b[39mlen\u001b[39m(Prob_matrix[fold][:,\u001b[39m0\u001b[39;49m])):\n\u001b[0;32m     <a href='vscode-notebook-cell:/c%3A/Users/shami/git/XGB/XGB_MutationClassification.ipynb#X40sZmlsZQ%3D%3D?line=26'>27</a>\u001b[0m         S0 \u001b[39m=\u001b[39m Prob_matrix[fold][:,\u001b[39m0\u001b[39m][value]  \u001b[39m#Each SNP's confidence in prob matrix fold\u001b[39;00m\n\u001b[0;32m     <a href='vscode-notebook-cell:/c%3A/Users/shami/git/XGB/XGB_MutationClassification.ipynb#X40sZmlsZQ%3D%3D?line=27'>28</a>\u001b[0m         \u001b[39mif\u001b[39;00m S0 \u001b[39m<\u001b[39m T:\n",
      "\u001b[1;31mIndexError\u001b[0m: too many indices for array: array is 1-dimensional, but 2 were indexed"
     ]
    }
   ],
   "source": [
    "file = \"AC_dataset.csv\"\n",
    "\n",
    "Training_Set, Testing_Set          = Train_Test_Split(file)                                 #Create training and testing sets\n",
    "test(Training_Set, Testing_Set)                                                             #Initial evaluation\n",
    "train_features, train_labels, test_features, test_labels = data(Training_Set, Testing_Set )\n",
    "# xgb_model = CV(Training_Set)                                                              #Cross-validate training set                              \n",
    "classData                   = train_labels                                            #Training labels\n",
    "inData                      = train_features                                           #Training features\n",
    "ValData                     = test_features                                            #Validation features\n",
    "Vallabel                    = test_labels                                            #Validation labels\n",
    "\n",
    "minClass, minSize, maxSize  = find_minority_class(classData)                            #Determines imbalance\n",
    "BF                          = Balance_ratio(maxSize, minSize)                           #Determins number of balancing folds needed\n",
    "Input_folds, Output_folds   = Balance_Folds(BF, inData, classData, minClass, minSize)   # balance() and balance_data() functions are called under this\n",
    "    # BF_RFC_HP = Hyperparameter(BF, Input_folds, Output_folds)\n",
    "BF_GBC                      = BF_fitting(BF, Input_folds, Output_folds)\n",
    "Prob_matrix                 = BF_validate(BF_GBC, ValData)\n",
    "\n",
    "Final_vote, Sum_PD, Sum_SNP = Weighted_Vote(Prob_matrix)\n",
    "# S_Out                       = Final_score(Sum_PD, Sum_SNP, BF)\n",
    "\n",
    "evalutation(Final_vote, test_labels)"
   ]
  }
 ],
 "metadata": {
  "kernelspec": {
   "display_name": "Python 3 (ipykernel)",
   "language": "python",
   "name": "python3"
  },
  "language_info": {
   "codemirror_mode": {
    "name": "ipython",
    "version": 3
   },
   "file_extension": ".py",
   "mimetype": "text/x-python",
   "name": "python",
   "nbconvert_exporter": "python",
   "pygments_lexer": "ipython3",
   "version": "3.10.7"
  },
  "varInspector": {
   "cols": {
    "lenName": 16,
    "lenType": 16,
    "lenVar": 40
   },
   "kernels_config": {
    "python": {
     "delete_cmd_postfix": "",
     "delete_cmd_prefix": "del ",
     "library": "var_list.py",
     "varRefreshCmd": "print(var_dic_list())"
    },
    "r": {
     "delete_cmd_postfix": ") ",
     "delete_cmd_prefix": "rm(",
     "library": "var_list.r",
     "varRefreshCmd": "cat(var_dic_list()) "
    }
   },
   "oldHeight": 337.844,
   "position": {
    "height": "359.844px",
    "left": "1536px",
    "right": "20px",
    "top": "112px",
    "width": "354px"
   },
   "types_to_exclude": [
    "module",
    "function",
    "builtin_function_or_method",
    "instance",
    "_Feature"
   ],
   "varInspector_section_display": "block",
   "window_display": true
  },
  "vscode": {
   "interpreter": {
    "hash": "e5cd67c8584618c148c6f2b57de13817422ccd98975b320089863a41752ead79"
   }
  }
 },
 "nbformat": 4,
 "nbformat_minor": 5
}
